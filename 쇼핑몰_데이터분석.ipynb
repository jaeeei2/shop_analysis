{
 "cells": [
  {
   "cell_type": "code",
   "execution_count": 1,
   "id": "1ce602a3-f78a-4865-8553-b6ad257e2a09",
   "metadata": {},
   "outputs": [
    {
     "name": "stdout",
     "output_type": "stream",
     "text": [
      "Hello!\n"
     ]
    }
   ],
   "source": [
    "print('Hello!')"
   ]
  },
  {
   "cell_type": "code",
   "execution_count": 18,
   "id": "17e28788-d9c0-4f3c-9c7c-048523ad4dba",
   "metadata": {},
   "outputs": [],
   "source": [
    "import matplotlib.pyplot as plt\n",
    "import matplotlib\n",
    "\n",
    "# 한글 폰트 설정\n",
    "matplotlib.rc('font', family='Malgun Gothic')  # Windows는 'Malgun Gothic' 사용\n",
    "plt.rcParams['axes.unicode_minus'] = False     # 음수 깨짐 방지\n"
   ]
  },
  {
   "cell_type": "code",
   "execution_count": 2,
   "id": "20a5ed93-0fbb-4c49-adf8-cd125fb19f24",
   "metadata": {},
   "outputs": [
    {
     "data": {
      "text/html": [
       "<div>\n",
       "<style scoped>\n",
       "    .dataframe tbody tr th:only-of-type {\n",
       "        vertical-align: middle;\n",
       "    }\n",
       "\n",
       "    .dataframe tbody tr th {\n",
       "        vertical-align: top;\n",
       "    }\n",
       "\n",
       "    .dataframe thead th {\n",
       "        text-align: right;\n",
       "    }\n",
       "</style>\n",
       "<table border=\"1\" class=\"dataframe\">\n",
       "  <thead>\n",
       "    <tr style=\"text-align: right;\">\n",
       "      <th></th>\n",
       "      <th>제품명</th>\n",
       "      <th>카테고리</th>\n",
       "      <th>가격</th>\n",
       "      <th>구매수</th>\n",
       "      <th>날짜</th>\n",
       "    </tr>\n",
       "  </thead>\n",
       "  <tbody>\n",
       "    <tr>\n",
       "      <th>0</th>\n",
       "      <td>무선 이어폰</td>\n",
       "      <td>전자기기</td>\n",
       "      <td>79000</td>\n",
       "      <td>150</td>\n",
       "      <td>2025-06-01</td>\n",
       "    </tr>\n",
       "    <tr>\n",
       "      <th>1</th>\n",
       "      <td>운동화</td>\n",
       "      <td>패션</td>\n",
       "      <td>120000</td>\n",
       "      <td>90</td>\n",
       "      <td>2025-06-02</td>\n",
       "    </tr>\n",
       "    <tr>\n",
       "      <th>2</th>\n",
       "      <td>텀블러</td>\n",
       "      <td>생활용품</td>\n",
       "      <td>18000</td>\n",
       "      <td>250</td>\n",
       "      <td>2025-06-01</td>\n",
       "    </tr>\n",
       "    <tr>\n",
       "      <th>3</th>\n",
       "      <td>책상</td>\n",
       "      <td>가구</td>\n",
       "      <td>200000</td>\n",
       "      <td>45</td>\n",
       "      <td>2025-06-03</td>\n",
       "    </tr>\n",
       "    <tr>\n",
       "      <th>4</th>\n",
       "      <td>노트북</td>\n",
       "      <td>전자기기</td>\n",
       "      <td>1300000</td>\n",
       "      <td>30</td>\n",
       "      <td>2025-06-01</td>\n",
       "    </tr>\n",
       "    <tr>\n",
       "      <th>5</th>\n",
       "      <td>셔츠</td>\n",
       "      <td>패션</td>\n",
       "      <td>45000</td>\n",
       "      <td>120</td>\n",
       "      <td>2025-06-02</td>\n",
       "    </tr>\n",
       "    <tr>\n",
       "      <th>6</th>\n",
       "      <td>샴푸</td>\n",
       "      <td>생활용품</td>\n",
       "      <td>9000</td>\n",
       "      <td>300</td>\n",
       "      <td>2025-06-01</td>\n",
       "    </tr>\n",
       "    <tr>\n",
       "      <th>7</th>\n",
       "      <td>모니터</td>\n",
       "      <td>전자기기</td>\n",
       "      <td>350000</td>\n",
       "      <td>50</td>\n",
       "      <td>2025-06-03</td>\n",
       "    </tr>\n",
       "    <tr>\n",
       "      <th>8</th>\n",
       "      <td>헤어드라이어</td>\n",
       "      <td>생활용품</td>\n",
       "      <td>30000</td>\n",
       "      <td>110</td>\n",
       "      <td>2025-06-01</td>\n",
       "    </tr>\n",
       "    <tr>\n",
       "      <th>9</th>\n",
       "      <td>백팩</td>\n",
       "      <td>패션</td>\n",
       "      <td>70000</td>\n",
       "      <td>80</td>\n",
       "      <td>2025-06-02</td>\n",
       "    </tr>\n",
       "  </tbody>\n",
       "</table>\n",
       "</div>"
      ],
      "text/plain": [
       "      제품명  카테고리       가격  구매수          날짜\n",
       "0  무선 이어폰  전자기기    79000  150  2025-06-01\n",
       "1     운동화    패션   120000   90  2025-06-02\n",
       "2     텀블러  생활용품    18000  250  2025-06-01\n",
       "3      책상    가구   200000   45  2025-06-03\n",
       "4     노트북  전자기기  1300000   30  2025-06-01\n",
       "5      셔츠    패션    45000  120  2025-06-02\n",
       "6      샴푸  생활용품     9000  300  2025-06-01\n",
       "7     모니터  전자기기   350000   50  2025-06-03\n",
       "8  헤어드라이어  생활용품    30000  110  2025-06-01\n",
       "9      백팩    패션    70000   80  2025-06-02"
      ]
     },
     "execution_count": 2,
     "metadata": {},
     "output_type": "execute_result"
    }
   ],
   "source": [
    "import pandas as pd\n",
    "\n",
    "data = {\n",
    "    \"제품명\": [\"무선 이어폰\", \"운동화\", \"텀블러\", \"책상\", \"노트북\", \"셔츠\", \"샴푸\", \"모니터\", \"헤어드라이어\", \"백팩\"],\n",
    "    \"카테고리\": [\"전자기기\", \"패션\", \"생활용품\", \"가구\", \"전자기기\", \"패션\", \"생활용품\", \"전자기기\", \"생활용품\", \"패션\"],\n",
    "    \"가격\": [79000, 120000, 18000, 200000, 1300000, 45000, 9000, 350000, 30000, 70000],\n",
    "    \"구매수\": [150, 90, 250, 45, 30, 120, 300, 50, 110, 80],\n",
    "    \"날짜\": [\"2025-06-01\", \"2025-06-02\", \"2025-06-01\", \"2025-06-03\", \"2025-06-01\",\n",
    "            \"2025-06-02\", \"2025-06-01\", \"2025-06-03\", \"2025-06-01\", \"2025-06-02\"]\n",
    "}\n",
    "\n",
    "df = pd.DataFrame(data)\n",
    "df\n"
   ]
  },
  {
   "cell_type": "code",
   "execution_count": 3,
   "id": "e1727d0e-a40f-477f-b030-ebff9aec3a84",
   "metadata": {},
   "outputs": [
    {
     "data": {
      "text/html": [
       "<div>\n",
       "<style scoped>\n",
       "    .dataframe tbody tr th:only-of-type {\n",
       "        vertical-align: middle;\n",
       "    }\n",
       "\n",
       "    .dataframe tbody tr th {\n",
       "        vertical-align: top;\n",
       "    }\n",
       "\n",
       "    .dataframe thead th {\n",
       "        text-align: right;\n",
       "    }\n",
       "</style>\n",
       "<table border=\"1\" class=\"dataframe\">\n",
       "  <thead>\n",
       "    <tr style=\"text-align: right;\">\n",
       "      <th></th>\n",
       "      <th>제품명</th>\n",
       "      <th>카테고리</th>\n",
       "      <th>가격</th>\n",
       "      <th>구매수</th>\n",
       "      <th>날짜</th>\n",
       "    </tr>\n",
       "  </thead>\n",
       "  <tbody>\n",
       "    <tr>\n",
       "      <th>0</th>\n",
       "      <td>무선 이어폰</td>\n",
       "      <td>전자기기</td>\n",
       "      <td>79000</td>\n",
       "      <td>150</td>\n",
       "      <td>2025-06-01</td>\n",
       "    </tr>\n",
       "    <tr>\n",
       "      <th>1</th>\n",
       "      <td>운동화</td>\n",
       "      <td>패션</td>\n",
       "      <td>120000</td>\n",
       "      <td>90</td>\n",
       "      <td>2025-06-02</td>\n",
       "    </tr>\n",
       "    <tr>\n",
       "      <th>2</th>\n",
       "      <td>텀블러</td>\n",
       "      <td>생활용품</td>\n",
       "      <td>18000</td>\n",
       "      <td>250</td>\n",
       "      <td>2025-06-01</td>\n",
       "    </tr>\n",
       "    <tr>\n",
       "      <th>3</th>\n",
       "      <td>책상</td>\n",
       "      <td>가구</td>\n",
       "      <td>200000</td>\n",
       "      <td>45</td>\n",
       "      <td>2025-06-03</td>\n",
       "    </tr>\n",
       "    <tr>\n",
       "      <th>4</th>\n",
       "      <td>노트북</td>\n",
       "      <td>전자기기</td>\n",
       "      <td>1300000</td>\n",
       "      <td>30</td>\n",
       "      <td>2025-06-01</td>\n",
       "    </tr>\n",
       "  </tbody>\n",
       "</table>\n",
       "</div>"
      ],
      "text/plain": [
       "      제품명  카테고리       가격  구매수          날짜\n",
       "0  무선 이어폰  전자기기    79000  150  2025-06-01\n",
       "1     운동화    패션   120000   90  2025-06-02\n",
       "2     텀블러  생활용품    18000  250  2025-06-01\n",
       "3      책상    가구   200000   45  2025-06-03\n",
       "4     노트북  전자기기  1300000   30  2025-06-01"
      ]
     },
     "execution_count": 3,
     "metadata": {},
     "output_type": "execute_result"
    }
   ],
   "source": [
    "df.head()"
   ]
  },
  {
   "cell_type": "code",
   "execution_count": 4,
   "id": "d11630f9-8558-4a19-b2f9-ef49a619c076",
   "metadata": {},
   "outputs": [
    {
     "data": {
      "text/html": [
       "<div>\n",
       "<style scoped>\n",
       "    .dataframe tbody tr th:only-of-type {\n",
       "        vertical-align: middle;\n",
       "    }\n",
       "\n",
       "    .dataframe tbody tr th {\n",
       "        vertical-align: top;\n",
       "    }\n",
       "\n",
       "    .dataframe thead th {\n",
       "        text-align: right;\n",
       "    }\n",
       "</style>\n",
       "<table border=\"1\" class=\"dataframe\">\n",
       "  <thead>\n",
       "    <tr style=\"text-align: right;\">\n",
       "      <th></th>\n",
       "      <th>가격</th>\n",
       "      <th>구매수</th>\n",
       "    </tr>\n",
       "  </thead>\n",
       "  <tbody>\n",
       "    <tr>\n",
       "      <th>count</th>\n",
       "      <td>1.000000e+01</td>\n",
       "      <td>10.000000</td>\n",
       "    </tr>\n",
       "    <tr>\n",
       "      <th>mean</th>\n",
       "      <td>2.221000e+05</td>\n",
       "      <td>122.500000</td>\n",
       "    </tr>\n",
       "    <tr>\n",
       "      <th>std</th>\n",
       "      <td>3.927237e+05</td>\n",
       "      <td>89.045868</td>\n",
       "    </tr>\n",
       "    <tr>\n",
       "      <th>min</th>\n",
       "      <td>9.000000e+03</td>\n",
       "      <td>30.000000</td>\n",
       "    </tr>\n",
       "    <tr>\n",
       "      <th>25%</th>\n",
       "      <td>3.375000e+04</td>\n",
       "      <td>57.500000</td>\n",
       "    </tr>\n",
       "    <tr>\n",
       "      <th>50%</th>\n",
       "      <td>7.450000e+04</td>\n",
       "      <td>100.000000</td>\n",
       "    </tr>\n",
       "    <tr>\n",
       "      <th>75%</th>\n",
       "      <td>1.800000e+05</td>\n",
       "      <td>142.500000</td>\n",
       "    </tr>\n",
       "    <tr>\n",
       "      <th>max</th>\n",
       "      <td>1.300000e+06</td>\n",
       "      <td>300.000000</td>\n",
       "    </tr>\n",
       "  </tbody>\n",
       "</table>\n",
       "</div>"
      ],
      "text/plain": [
       "                 가격         구매수\n",
       "count  1.000000e+01   10.000000\n",
       "mean   2.221000e+05  122.500000\n",
       "std    3.927237e+05   89.045868\n",
       "min    9.000000e+03   30.000000\n",
       "25%    3.375000e+04   57.500000\n",
       "50%    7.450000e+04  100.000000\n",
       "75%    1.800000e+05  142.500000\n",
       "max    1.300000e+06  300.000000"
      ]
     },
     "execution_count": 4,
     "metadata": {},
     "output_type": "execute_result"
    }
   ],
   "source": [
    "df.describe()"
   ]
  },
  {
   "cell_type": "code",
   "execution_count": 7,
   "id": "06a4a796-0ede-4fa2-8872-785f8e680a88",
   "metadata": {},
   "outputs": [
    {
     "data": {
      "text/plain": [
       "제품명\n",
       "샴푸        300\n",
       "텀블러       250\n",
       "무선 이어폰    150\n",
       "셔츠        120\n",
       "헤어드라이어    110\n",
       "운동화        90\n",
       "백팩         80\n",
       "모니터        50\n",
       "책상         45\n",
       "노트북        30\n",
       "Name: 구매수, dtype: int64"
      ]
     },
     "execution_count": 7,
     "metadata": {},
     "output_type": "execute_result"
    }
   ],
   "source": [
    "df.groupby('제품명')['구매수'].sum().sort_values(ascending=False)"
   ]
  },
  {
   "cell_type": "code",
   "execution_count": 11,
   "id": "01b92c39-8eda-46eb-8cc5-472e45b498f9",
   "metadata": {},
   "outputs": [],
   "source": [
    "df['총매출'] = df['가격'] * df['구매수']"
   ]
  },
  {
   "cell_type": "code",
   "execution_count": 12,
   "id": "f8538b91-96df-4b4d-9c74-e902a3a2ef8e",
   "metadata": {},
   "outputs": [
    {
     "data": {
      "text/html": [
       "<div>\n",
       "<style scoped>\n",
       "    .dataframe tbody tr th:only-of-type {\n",
       "        vertical-align: middle;\n",
       "    }\n",
       "\n",
       "    .dataframe tbody tr th {\n",
       "        vertical-align: top;\n",
       "    }\n",
       "\n",
       "    .dataframe thead th {\n",
       "        text-align: right;\n",
       "    }\n",
       "</style>\n",
       "<table border=\"1\" class=\"dataframe\">\n",
       "  <thead>\n",
       "    <tr style=\"text-align: right;\">\n",
       "      <th></th>\n",
       "      <th>제품명</th>\n",
       "      <th>카테고리</th>\n",
       "      <th>가격</th>\n",
       "      <th>구매수</th>\n",
       "      <th>날짜</th>\n",
       "      <th>총매출</th>\n",
       "    </tr>\n",
       "  </thead>\n",
       "  <tbody>\n",
       "    <tr>\n",
       "      <th>0</th>\n",
       "      <td>무선 이어폰</td>\n",
       "      <td>전자기기</td>\n",
       "      <td>79000</td>\n",
       "      <td>150</td>\n",
       "      <td>2025-06-01</td>\n",
       "      <td>11850000</td>\n",
       "    </tr>\n",
       "    <tr>\n",
       "      <th>1</th>\n",
       "      <td>운동화</td>\n",
       "      <td>패션</td>\n",
       "      <td>120000</td>\n",
       "      <td>90</td>\n",
       "      <td>2025-06-02</td>\n",
       "      <td>10800000</td>\n",
       "    </tr>\n",
       "    <tr>\n",
       "      <th>2</th>\n",
       "      <td>텀블러</td>\n",
       "      <td>생활용품</td>\n",
       "      <td>18000</td>\n",
       "      <td>250</td>\n",
       "      <td>2025-06-01</td>\n",
       "      <td>4500000</td>\n",
       "    </tr>\n",
       "    <tr>\n",
       "      <th>3</th>\n",
       "      <td>책상</td>\n",
       "      <td>가구</td>\n",
       "      <td>200000</td>\n",
       "      <td>45</td>\n",
       "      <td>2025-06-03</td>\n",
       "      <td>9000000</td>\n",
       "    </tr>\n",
       "    <tr>\n",
       "      <th>4</th>\n",
       "      <td>노트북</td>\n",
       "      <td>전자기기</td>\n",
       "      <td>1300000</td>\n",
       "      <td>30</td>\n",
       "      <td>2025-06-01</td>\n",
       "      <td>39000000</td>\n",
       "    </tr>\n",
       "  </tbody>\n",
       "</table>\n",
       "</div>"
      ],
      "text/plain": [
       "      제품명  카테고리       가격  구매수          날짜       총매출\n",
       "0  무선 이어폰  전자기기    79000  150  2025-06-01  11850000\n",
       "1     운동화    패션   120000   90  2025-06-02  10800000\n",
       "2     텀블러  생활용품    18000  250  2025-06-01   4500000\n",
       "3      책상    가구   200000   45  2025-06-03   9000000\n",
       "4     노트북  전자기기  1300000   30  2025-06-01  39000000"
      ]
     },
     "execution_count": 12,
     "metadata": {},
     "output_type": "execute_result"
    }
   ],
   "source": [
    "df.head()"
   ]
  },
  {
   "cell_type": "code",
   "execution_count": 13,
   "id": "0643422b-081c-4f8a-9cc5-333cf9eef33b",
   "metadata": {},
   "outputs": [
    {
     "name": "stdout",
     "output_type": "stream",
     "text": [
      "제품명\n",
      "노트북       39000000\n",
      "모니터       17500000\n",
      "무선 이어폰    11850000\n",
      "운동화       10800000\n",
      "책상         9000000\n",
      "백팩         5600000\n",
      "셔츠         5400000\n",
      "텀블러        4500000\n",
      "헤어드라이어     3300000\n",
      "샴푸         2700000\n",
      "Name: 총매출, dtype: int64\n"
     ]
    }
   ],
   "source": [
    "매출순위 = df.groupby('제품명')['총매출'].sum().sort_values(ascending=False)\n",
    "print(매출순위)"
   ]
  },
  {
   "cell_type": "code",
   "execution_count": 19,
   "id": "7a1cfbeb-06f3-48c0-bbe6-ed92d7fa3f05",
   "metadata": {},
   "outputs": [
    {
     "data": {
      "image/png": "[encoded data removed]",
      "text/plain": [
       "<Figure size 1000x600 with 1 Axes>"
      ]
     },
     "metadata": {},
     "output_type": "display_data"
    }
   ],
   "source": [
    "import matplotlib.pyplot as plt\n",
    "\n",
    "plt.figure(figsize=(10, 6))\n",
    "매출순위.plot(kind='bar', color='skyblue')\n",
    "plt.title('상품별 총매출')\n",
    "plt.xlabel('제품명')\n",
    "plt.ylabel('총매출')\n",
    "plt.xticks(rotation=45)\n",
    "plt.tight_layout()\n",
    "plt.show()\n"
   ]
  },
  {
   "cell_type": "code",
   "execution_count": 20,
   "id": "8e4111cc-dc75-43f8-8c59-28374bd774a0",
   "metadata": {},
   "outputs": [
    {
     "data": {
      "text/plain": [
       "'C:\\\\Users\\\\백재이'"
      ]
     },
     "execution_count": 20,
     "metadata": {},
     "output_type": "execute_result"
    }
   ],
   "source": [
    "import os\n",
    "os.getcwd()\n"
   ]
  },
  {
   "cell_type": "code",
   "execution_count": null,
   "id": "17cd9418-b9bf-429c-b257-60f5655cf95a",
   "metadata": {},
   "outputs": [],
   "source": []
  }
 ],
 "metadata": {
  "kernelspec": {
   "display_name": "Python [conda env:base] *",
   "language": "python",
   "name": "conda-base-py"
  },
  "language_info": {
   "codemirror_mode": {
    "name": "ipython",
    "version": 3
   },
   "file_extension": ".py",
   "mimetype": "text/x-python",
   "name": "python",
   "nbconvert_exporter": "python",
   "pygments_lexer": "ipython3",
   "version": "3.12.7"
  }
 },
 "nbformat": 4,
 "nbformat_minor": 5
}
